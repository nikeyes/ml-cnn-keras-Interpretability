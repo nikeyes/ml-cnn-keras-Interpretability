{
 "cells": [
  {
   "cell_type": "code",
   "execution_count": null,
   "metadata": {},
   "outputs": [],
   "source": [
    "import numpy as np\n",
    "import matplotlib.pyplot as plt\n",
    "\n",
    "from skimage.io import imread\n",
    "import tensorflow as tf\n",
    "import numpy as np\n",
    "from sklearn.metrics import confusion_matrix, ConfusionMatrixDisplay, f1_score, precision_score, recall_score, accuracy_score"
   ]
  },
  {
   "cell_type": "code",
   "execution_count": null,
   "metadata": {},
   "outputs": [],
   "source": [
    "def get_model():\n",
    "    logged_model = '../saved_model_for_interpretability'\n",
    "\n",
    "    model = tf.keras.models.load_model(logged_model)\n",
    "    return model"
   ]
  },
  {
   "cell_type": "code",
   "execution_count": null,
   "metadata": {},
   "outputs": [],
   "source": [
    "model = get_model()"
   ]
  },
  {
   "cell_type": "code",
   "execution_count": null,
   "metadata": {},
   "outputs": [],
   "source": [
    "data_dir = '/Users/anna.renau/Desktop/hackathon/images_test'"
   ]
  },
  {
   "cell_type": "code",
   "execution_count": null,
   "metadata": {},
   "outputs": [],
   "source": [
    "!find $data_dir  -name ._\\* -delete\n",
    "!find $data_dir  -name .DS\\* -delete"
   ]
  },
  {
   "cell_type": "markdown",
   "metadata": {},
   "source": [
    "---\n",
    "---\n",
    "---\n",
    "# Global analysis"
   ]
  },
  {
   "cell_type": "code",
   "execution_count": null,
   "metadata": {},
   "outputs": [],
   "source": [
    "def build_dataset():\n",
    "      return tf.keras.preprocessing.image_dataset_from_directory(\n",
    "          data_dir,\n",
    "          label_mode=\"categorical\",\n",
    "          image_size=(384, 384),\n",
    "          batch_size=1)\n",
    "    \n",
    "ds_images = build_dataset()\n",
    "#classes = ds_images.class_names\n",
    "classes = ['bathroom', 'bedroom', 'dinning', 'frontal', 'kitchen', 'livingroom']\n",
    "\n",
    "# Hemos incluido la normalización (Resize y Rescaling) como capas dentro del modelo.\n",
    "# normalization_layer = tf.keras.layers.experimental.preprocessing.Rescaling(1. / 255)\n",
    "# ds_images = ds_images.map(lambda images, labels: (normalization_layer(images), labels))"
   ]
  },
  {
   "cell_type": "code",
   "execution_count": null,
   "metadata": {},
   "outputs": [],
   "source": [
    "y_pred = []\n",
    "y_true = []\n",
    "for x, y in ds_images:\n",
    "    image = x[0, :, :, :]\n",
    "    pred = classes[np.argmax(model.predict(np.expand_dims(image, axis=0)))]\n",
    "    true_value = classes[np.argmax(y[0])]\n",
    "    y_pred.append(pred)\n",
    "    y_true.append(true_value)\n",
    "\n",
    "    if pred != true_value:\n",
    "        plt.imshow(image.numpy().astype(\"uint8\"))\n",
    "        plt.title(f'pred: {pred} - true: {true_value} ')\n",
    "        plt.show()"
   ]
  },
  {
   "cell_type": "code",
   "execution_count": null,
   "metadata": {},
   "outputs": [],
   "source": [
    "y_true_freqs = np.unique(y_true, return_counts=True)\n",
    "y_pred_freqs = np.unique(y_pred, return_counts=True)\n",
    "\n",
    "fig, ax = plt.subplots(figsize = (7, 5))\n",
    "ax.bar(y_true_freqs[0], y_true_freqs[1], alpha = 0.3, label = 'y_true')\n",
    "ax.bar(y_pred_freqs[0], y_pred_freqs[1], alpha = 0.3, label = 'y_pred')\n",
    "ax.legend()"
   ]
  },
  {
   "cell_type": "code",
   "execution_count": null,
   "metadata": {},
   "outputs": [],
   "source": [
    "print('Accuracy:', accuracy_score(y_true, y_pred))\n",
    "print('F1 score:', f1_score(y_true, y_pred, average=None))\n",
    "print('Precision:', precision_score(y_true, y_pred, average=None))\n",
    "print('Recall:', recall_score(y_true, y_pred, average=None))\n",
    "\n",
    "fig, ax = plt.subplots(figsize=(10,10))\n",
    "cm = confusion_matrix(y_true, y_pred, labels=classes)\n",
    "disp = ConfusionMatrixDisplay(confusion_matrix=cm,\n",
    "                              display_labels=classes)\n",
    "disp.plot(ax=ax)\n",
    "plt.show()"
   ]
  }
 ],
 "metadata": {
  "interpreter": {
   "hash": "89edf87c7a836ace940f4b47f81d5f3a8e43e468206a91266e346e028a18a9c6"
  },
  "kernelspec": {
   "display_name": "Python 3 (ipykernel)",
   "language": "python",
   "name": "python3"
  },
  "language_info": {
   "codemirror_mode": {
    "name": "ipython",
    "version": 3
   },
   "file_extension": ".py",
   "mimetype": "text/x-python",
   "name": "python",
   "nbconvert_exporter": "python",
   "pygments_lexer": "ipython3",
   "version": "3.8.12"
  }
 },
 "nbformat": 4,
 "nbformat_minor": 2
}
