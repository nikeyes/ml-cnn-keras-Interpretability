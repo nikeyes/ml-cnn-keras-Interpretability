{
 "cells": [
  {
   "cell_type": "code",
   "execution_count": null,
   "metadata": {},
   "outputs": [],
   "source": [
    "import tensorflow as tf\n",
    "import tensorflow_hub as hub\n",
    "from tensorflow import keras\n",
    "import matplotlib.pylab as plt\n",
    "import numpy as np\n",
    "from tensorflow.keras.utils import plot_model"
   ]
  },
  {
   "cell_type": "code",
   "execution_count": null,
   "metadata": {},
   "outputs": [],
   "source": [
    "image_size = (384, 384)\n",
    "image_width = image_size[0]\n",
    "image_height = image_size[1]\n",
    "input_shape = image_size + (3,)\n",
    "\n",
    "base_model = tf.keras.applications.efficientnet_v2.EfficientNetV2S(\n",
    "   weights='imagenet', \n",
    "   input_shape=input_shape,\n",
    "   include_top=False\n",
    ")\n",
    "\n",
    "base_model.trainable = False\n",
    "\n",
    "x = base_model.output\n",
    "x = tf.keras.layers.GlobalAveragePooling2D()(x)\n",
    "x = tf.keras.layers.Dropout(rate=0.1)(x)\n",
    "outputs = tf.keras.layers.Dense(6, activation=tf.keras.activations.softmax, kernel_regularizer=tf.keras.regularizers.l2(0.001))(x)\n",
    "model = tf.keras.Model(inputs=base_model.input, outputs=outputs, name=\"my_model\")\n",
    "\n",
    "\n",
    "model.build((None,)+image_size+(3,))\n",
    "\n",
    "#model.summary()\n"
   ]
  },
  {
   "cell_type": "code",
   "execution_count": null,
   "metadata": {},
   "outputs": [],
   "source": [
    "plot_model(model, to_file='efficientnetv2_s_model_diagram.png', show_shapes=True, show_layer_names=True)"
   ]
  }
 ],
 "metadata": {
  "interpreter": {
   "hash": "925a1abfe13952b8f4ea78dbc976246d86ea16b67a6a5fd0c8bd46dc49662ed6"
  },
  "kernelspec": {
   "display_name": "Python 3.8.12 ('.venv': poetry)",
   "language": "python",
   "name": "python3"
  },
  "language_info": {
   "codemirror_mode": {
    "name": "ipython",
    "version": 3
   },
   "file_extension": ".py",
   "mimetype": "text/x-python",
   "name": "python",
   "nbconvert_exporter": "python",
   "pygments_lexer": "ipython3",
   "version": "3.8.12"
  },
  "orig_nbformat": 4
 },
 "nbformat": 4,
 "nbformat_minor": 2
}
